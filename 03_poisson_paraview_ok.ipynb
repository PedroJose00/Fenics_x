{
 "cells": [
  {
   "cell_type": "code",
   "execution_count": 1,
   "id": "b7283c0f",
   "metadata": {},
   "outputs": [],
   "source": [
    "from dolfinx import io\n",
    "from pathlib import Path\n",
    "from mpi4py import MPI\n",
    "from petsc4py.PETSc import ScalarType  # type: ignore\n",
    "import numpy as np\n",
    "import ufl\n",
    "from dolfinx import fem, io, mesh, plot\n",
    "from dolfinx.fem.petsc import LinearProblem\n",
    "from ufl import ds, dx, grad, inner"
   ]
  },
  {
   "cell_type": "code",
   "execution_count": 2,
   "id": "649b063a",
   "metadata": {},
   "outputs": [],
   "source": [
    "msh = mesh.create_rectangle(comm=MPI.COMM_WORLD,\n",
    "                            points=((0.0, 0.0), (2.0, 2.0)), n=(32, 16),\n",
    "                            cell_type=mesh.CellType.quadrilateral)"
   ]
  },
  {
   "cell_type": "code",
   "execution_count": 3,
   "id": "487a4ef6",
   "metadata": {},
   "outputs": [],
   "source": [
    "V = fem.functionspace(msh, (\"Lagrange\", 1)) # quadratic polynomials"
   ]
  },
  {
   "cell_type": "code",
   "execution_count": 4,
   "id": "abf8cbed",
   "metadata": {},
   "outputs": [],
   "source": [
    "facets = mesh.locate_entities_boundary(msh, dim=(msh.topology.dim - 1),\n",
    "                                       marker=lambda x: np.logical_or(np.isclose(x[0], 0.0),\n",
    "                                                                      np.isclose(x[0], 2.0)))"
   ]
  },
  {
   "cell_type": "code",
   "execution_count": 5,
   "id": "45071378",
   "metadata": {},
   "outputs": [],
   "source": [
    "dofs = fem.locate_dofs_topological(V=V, entity_dim=1, entities=facets)  # DOF in the model"
   ]
  },
  {
   "cell_type": "code",
   "execution_count": 6,
   "id": "45346e63",
   "metadata": {},
   "outputs": [],
   "source": [
    "bc = fem.dirichletbc(value=ScalarType(0), dofs=dofs, V=V)"
   ]
  },
  {
   "cell_type": "code",
   "execution_count": 7,
   "id": "d4acef5e",
   "metadata": {},
   "outputs": [],
   "source": [
    "u = ufl.TrialFunction(V)\n",
    "v = ufl.TestFunction(V)\n",
    "x = ufl.SpatialCoordinate(msh)\n",
    "f = 10 * ufl.exp(-((x[0] - 0.5) ** 2 + (x[1] - 0.5) ** 2) / 0.02)\n",
    "g = ufl.sin(5 * x[0])\n",
    "a = inner(grad(u), grad(v)) * dx\n",
    "L = inner(f, v) * dx + inner(g, v) * ds"
   ]
  },
  {
   "cell_type": "code",
   "execution_count": 8,
   "id": "21ef7ad0",
   "metadata": {},
   "outputs": [],
   "source": [
    "problem = LinearProblem(a, L, bcs=[bc], petsc_options={\"ksp_type\": \"preonly\", \"pc_type\": \"lu\"})\n",
    "uh = problem.solve()"
   ]
  },
  {
   "cell_type": "code",
   "execution_count": 9,
   "id": "cb366974",
   "metadata": {
    "scrolled": true
   },
   "outputs": [],
   "source": [
    "with io.VTXWriter(MPI.COMM_WORLD, \"uh_print.bp4\", [uh], engine=\"BP4\") as desplz: # aca realizamos impresion en VTK\n",
    "    desplz.write(0.0)\n",
    "    "
   ]
  },
  {
   "cell_type": "code",
   "execution_count": null,
   "id": "7dbb4a1c",
   "metadata": {},
   "outputs": [],
   "source": []
  },
  {
   "cell_type": "code",
   "execution_count": null,
   "id": "1860bdd1",
   "metadata": {},
   "outputs": [],
   "source": []
  }
 ],
 "metadata": {
  "kernelspec": {
   "display_name": "Python 3 (ipykernel)",
   "language": "python",
   "name": "python3"
  },
  "language_info": {
   "codemirror_mode": {
    "name": "ipython",
    "version": 3
   },
   "file_extension": ".py",
   "mimetype": "text/x-python",
   "name": "python",
   "nbconvert_exporter": "python",
   "pygments_lexer": "ipython3",
   "version": "3.11.5"
  }
 },
 "nbformat": 4,
 "nbformat_minor": 5
}
