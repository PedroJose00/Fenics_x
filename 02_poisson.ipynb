{
 "cells": [
  {
   "cell_type": "code",
   "execution_count": 1,
   "id": "b7283c0f",
   "metadata": {},
   "outputs": [],
   "source": [
    "from dolfinx.io import VTXWriter\n",
    "from pathlib import Path\n",
    "from mpi4py import MPI\n",
    "from petsc4py.PETSc import ScalarType  # type: ignore\n",
    "import numpy as np\n",
    "import ufl\n",
    "from dolfinx import fem, io, mesh, plot\n",
    "from dolfinx.fem.petsc import LinearProblem\n",
    "from ufl import ds, dx, grad, inner"
   ]
  },
  {
   "cell_type": "code",
   "execution_count": 2,
   "id": "649b063a",
   "metadata": {},
   "outputs": [],
   "source": [
    "msh = mesh.create_rectangle(comm=MPI.COMM_WORLD,\n",
    "                            points=((0.0, 0.0), (2.0, 1.0)), n=(32, 16),\n",
    "                            cell_type=mesh.CellType.triangle)"
   ]
  },
  {
   "cell_type": "code",
   "execution_count": 3,
   "id": "487a4ef6",
   "metadata": {},
   "outputs": [],
   "source": [
    "V = fem.functionspace(msh, (\"Lagrange\", 1)) # quadratic polynomials"
   ]
  },
  {
   "cell_type": "code",
   "execution_count": 4,
   "id": "abf8cbed",
   "metadata": {},
   "outputs": [],
   "source": [
    "facets = mesh.locate_entities_boundary(msh, dim=(msh.topology.dim - 1),\n",
    "                                       marker=lambda x: np.logical_or(np.isclose(x[0], 0.0),\n",
    "                                                                      np.isclose(x[0], 2.0)))"
   ]
  },
  {
   "cell_type": "code",
   "execution_count": 5,
   "id": "45071378",
   "metadata": {},
   "outputs": [],
   "source": [
    "dofs = fem.locate_dofs_topological(V=V, entity_dim=1, entities=facets)  # DOF in the model"
   ]
  },
  {
   "cell_type": "code",
   "execution_count": 6,
   "id": "45346e63",
   "metadata": {},
   "outputs": [],
   "source": [
    "bc = fem.dirichletbc(value=ScalarType(0), dofs=dofs, V=V)"
   ]
  },
  {
   "cell_type": "code",
   "execution_count": 7,
   "id": "d4acef5e",
   "metadata": {},
   "outputs": [],
   "source": [
    "u = ufl.TrialFunction(V)\n",
    "v = ufl.TestFunction(V)\n",
    "x = ufl.SpatialCoordinate(msh)\n",
    "f = 10 * ufl.exp(-((x[0] - 0.5) ** 2 + (x[1] - 0.5) ** 2) / 0.02)\n",
    "g = ufl.sin(5 * x[0])\n",
    "a = inner(grad(u), grad(v)) * dx\n",
    "L = inner(f, v) * dx + inner(g, v) * ds"
   ]
  },
  {
   "cell_type": "code",
   "execution_count": 8,
   "id": "21ef7ad0",
   "metadata": {},
   "outputs": [],
   "source": [
    "problem = LinearProblem(a, L, bcs=[bc], petsc_options={\"ksp_type\": \"preonly\", \"pc_type\": \"lu\"})\n",
    "uh = problem.solve()"
   ]
  },
  {
   "cell_type": "code",
   "execution_count": 9,
   "id": "cb366974",
   "metadata": {},
   "outputs": [
    {
     "ename": "NameError",
     "evalue": "name 'V0' is not defined",
     "output_type": "error",
     "traceback": [
      "\u001b[0;31m---------------------------------------------------------------------------\u001b[0m",
      "\u001b[0;31mNameError\u001b[0m                                 Traceback (most recent call last)",
      "Cell \u001b[0;32mIn[9], line 3\u001b[0m\n\u001b[1;32m      1\u001b[0m \u001b[38;5;28;01mtry\u001b[39;00m:\n\u001b[1;32m      2\u001b[0m     \u001b[38;5;28;01mimport\u001b[39;00m \u001b[38;5;21;01mpyvista\u001b[39;00m\n\u001b[0;32m----> 3\u001b[0m     cells, types, x \u001b[38;5;241m=\u001b[39m plot\u001b[38;5;241m.\u001b[39mvtk_mesh(V0)\n\u001b[1;32m      4\u001b[0m     grid \u001b[38;5;241m=\u001b[39m pyvista\u001b[38;5;241m.\u001b[39mUnstructuredGrid(cells, types, x)\n\u001b[1;32m      5\u001b[0m     values \u001b[38;5;241m=\u001b[39m np\u001b[38;5;241m.\u001b[39mzeros((x\u001b[38;5;241m.\u001b[39mshape[\u001b[38;5;241m0\u001b[39m], \u001b[38;5;241m3\u001b[39m), dtype\u001b[38;5;241m=\u001b[39mnp\u001b[38;5;241m.\u001b[39mfloat64)\n",
      "\u001b[0;31mNameError\u001b[0m: name 'V0' is not defined"
     ]
    }
   ],
   "source": [
    "try:\n",
    "    import pyvista\n",
    "    cells, types, x = plot.vtk_mesh(V0)\n",
    "    grid = pyvista.UnstructuredGrid(cells, types, x)\n",
    "    values = np.zeros((x.shape[0], 3), dtype=np.float64)\n",
    "    values[:, :msh.topology.dim] = u0.x.array.reshape(x.shape[0], msh.topology.dim).real\n",
    "    grid.point_data[\"u\"] = values\n",
    "\n",
    "    pl = pyvista.Plotter(shape=(2, 2))\n",
    "\n",
    "    pl.subplot(0, 0)\n",
    "    pl.add_text(\"magnitude\", font_size=12, color=\"black\", position=\"upper_edge\")\n",
    "    pl.add_mesh(grid.copy(), show_edges=True)\n",
    "\n",
    "    pl.subplot(0, 1)\n",
    "    glyphs = grid.glyph(orient=\"u\", factor=0.08)\n",
    "    pl.add_text(\"vector glyphs\", font_size=12, color=\"black\", position=\"upper_edge\")\n",
    "    pl.add_mesh(glyphs, show_scalar_bar=False)\n",
    "    pl.add_mesh(grid.copy(), style=\"wireframe\", line_width=2, color=\"black\")\n",
    "\n",
    "    pl.subplot(1, 0)\n",
    "    pl.add_text(\"x-component\", font_size=12, color=\"black\", position=\"upper_edge\")\n",
    "    pl.add_mesh(grid.copy(), component=0, show_edges=True)\n",
    "\n",
    "    pl.subplot(1, 1)\n",
    "    pl.add_text(\"y-component\", font_size=12, color=\"black\", position=\"upper_edge\")\n",
    "    pl.add_mesh(grid.copy(), component=1, show_edges=True)\n",
    "\n",
    "    pl.view_xy()\n",
    "    pl.link_views()\n",
    "\n",
    "    # If pyvista environment variable is set to off-screen (static)\n",
    "    # plotting save png\n",
    "    if pyvista.OFF_SCREEN:\n",
    "        pyvista.start_xvfb(wait=0.1)\n",
    "        pl.screenshot(\"uh.png\")\n",
    "    else:\n",
    "        pl.show()\n",
    "except ModuleNotFoundError:\n",
    "    print(\"pyvista is required to visualise the solution\")"
   ]
  },
  {
   "cell_type": "code",
   "execution_count": null,
   "id": "dbd0d4d6",
   "metadata": {},
   "outputs": [],
   "source": []
  }
 ],
 "metadata": {
  "kernelspec": {
   "display_name": "Python 3 (ipykernel)",
   "language": "python",
   "name": "python3"
  },
  "language_info": {
   "codemirror_mode": {
    "name": "ipython",
    "version": 3
   },
   "file_extension": ".py",
   "mimetype": "text/x-python",
   "name": "python",
   "nbconvert_exporter": "python",
   "pygments_lexer": "ipython3",
   "version": "3.11.6"
  }
 },
 "nbformat": 4,
 "nbformat_minor": 5
}
